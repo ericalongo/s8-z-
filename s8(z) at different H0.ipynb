{
 "cells": [
  {
   "cell_type": "code",
   "execution_count": 2,
   "id": "cb9eac06",
   "metadata": {},
   "outputs": [
    {
     "name": "stdout",
     "output_type": "stream",
     "text": [
      "Using CAMB 1.3.5 installed at C:\\Users\\lenovo\\anaconda3\\lib\\site-packages\\camb\n"
     ]
    }
   ],
   "source": [
    "import sys, platform, os\n",
    "import pickle\n",
    "import tqdm\n",
    "import matplotlib\n",
    "from matplotlib import pyplot as plt\n",
    "import numpy as np\n",
    "import camb\n",
    "from camb import model, initialpower\n",
    "print('Using CAMB %s installed at %s'%(camb.__version__,os.path.dirname(camb.__file__)))\n",
    "# Initial setup:\n",
    "number_of_samples = 10\n",
    "LCDM_priors = {\n",
    "               'omegabh2': [0.022, 0.022],\n",
    "               'omegach2': [0.122, 0.122],\n",
    "               'H0': [40, 100],\n",
    "               'ns': [0.965, 0.965],\n",
    "               'logAs': [2, 4],\n",
    "               }\n",
    "redshifts= np.linspace(3, 0, 20)\n",
    "#definisco il file dove caricherò le sigma a ogni presa dati\n",
    "cache_file = './LCDM_sigma2_8.cache' "
   ]
  },
  {
   "cell_type": "code",
   "execution_count": 3,
   "id": "4fef8914",
   "metadata": {},
   "outputs": [
    {
     "name": "stderr",
     "output_type": "stream",
     "text": [
      "100%|██████████████████████████████████████████████████████████████████████████████████| 10/10 [00:17<00:00,  1.71s/it]\n"
     ]
    }
   ],
   "source": [
    "# if the cache file exists load it and append, otherwise initialize as empty:\n",
    "#è proprio la definizione di un file specifico a partire da uno generico in camb\n",
    "if os.path.isfile(cache_file):\n",
    "    #leggo converto e carico\n",
    "    #pickle converte le sigma che calcolerò che sono in samples in una lista di bite le carica con load avendole lette con open rb read binary\n",
    "    sigma_8_samples = list(pickle.load(open(cache_file, 'rb')))\n",
    "else:\n",
    "    sigma_8_samples = []\n",
    "\n",
    "# start the loop:\n",
    "for i in tqdm.tqdm(range(number_of_samples)):\n",
    "    # generate the sample:\n",
    "    #mi dice cosa ci sta nel numero di samples, ovvero un loop che a ogni giro prende gli elementi delle prior\n",
    "    #questi elementi devono essere generati casualmente uno per uno, da cui 1 come size. i primi due termini in parentesi sono richiamano nell'ordine di lista per ciascumo estremo inferiore e superiore\n",
    "    _omegabh2 = np.random.uniform(LCDM_priors['omegabh2'][0], LCDM_priors['omegabh2'][1], 1)[0]\n",
    "    _omegach2 = np.random.uniform(LCDM_priors['omegach2'][0], LCDM_priors['omegach2'][1], 1)[0]\n",
    "    _H0 = np.random.uniform(LCDM_priors['H0'][0], LCDM_priors['H0'][1], 1)[0]\n",
    "    _ns = np.random.uniform(LCDM_priors['ns'][0], LCDM_priors['ns'][1], 1)[0]\n",
    "    _logAs = np.random.uniform(LCDM_priors['logAs'][0], LCDM_priors['logAs'][1], 1)[0]\n",
    "    # process parameters to feed to CAMB:\n",
    "    _As = 10**(-10)*np.exp(_logAs)\n",
    "    # set up camb:\n",
    "    pars = camb.set_params(H0=_H0, ombh2=_omegabh2, omch2=_omegach2, As=_As, ns=_ns)\n",
    "    pars.set_matter_power(redshifts, kmax=2.0)\n",
    "    pars.NonLinear = model.NonLinear_none\n",
    "    # call camb and compute cosmology:\n",
    "    results = camb.get_results(pars)\n",
    "    # get sigma8:\n",
    "    sigma8_z = np.array(results.get_sigma8())\n",
    "    # append to samples:\n",
    "    sigma_8_samples.append(results.get_sigma8().copy())\n",
    "    \n",
    "# convert to numpy array:\n",
    "sigma_8_samples = np.array(sigma_8_samples)\n",
    "\n",
    "# save out to file:\n",
    "#oltre al caricare devo salvare i dati wb write binary il file è già scritto in binario così phyton non altera i dati\n",
    "pickle.dump(sigma_8_samples, open(cache_file, 'wb'))"
   ]
  },
  {
   "cell_type": "code",
   "execution_count": 4,
   "id": "7f13a5f4",
   "metadata": {},
   "outputs": [
    {
     "data": {
      "image/png": "[encoded data removed]",
      "text/plain": [
       "<Figure size 432x288 with 2 Axes>"
      ]
     },
     "metadata": {
      "needs_background": "light"
     },
     "output_type": "display_data"
    }
   ],
   "source": [
    "# plot correlation matrix:\n",
    "plt.title(' s8(z) correlation for different H0')\n",
    "\n",
    "#fissarescalacolori\n",
    "sigma8_corr = np.corrcoef(sigma_8_samples.T)\n",
    "plt.imshow(sigma8_corr)\n",
    "plt.colorbar()\n",
    "plt.show()"
   ]
  },
  {
   "cell_type": "code",
   "execution_count": 5,
   "id": "02a77367",
   "metadata": {},
   "outputs": [
    {
     "ename": "IndentationError",
     "evalue": "unexpected indent (Temp/ipykernel_10236/878587595.py, line 10)",
     "output_type": "error",
     "traceback": [
      "\u001b[1;36m  File \u001b[1;32m\"C:\\Users\\lenovo\\AppData\\Local\\Temp/ipykernel_10236/878587595.py\"\u001b[1;36m, line \u001b[1;32m10\u001b[0m\n\u001b[1;33m    plt.title(' s8(z) at different H0')\u001b[0m\n\u001b[1;37m    ^\u001b[0m\n\u001b[1;31mIndentationError\u001b[0m\u001b[1;31m:\u001b[0m unexpected indent\n"
     ]
    }
   ],
   "source": [
    "# plot some samples:\n",
    "#grafico 20 samples e la media delle sigma\n",
    "mean = np.mean(sigma_8_samples, axis=0)\n",
    "#perchè 20 samples e non10/ così funziona per almeno due avvii(prob perchè ho 20 redshift)\n",
    "samples_to_plot = 20\n",
    "plt.plot(redshifts[::-1], mean, color='k', ls='--', lw=2., zorder=999)\n",
    "for i in range(samples_to_plot):\n",
    "    _ind = int(i * np.floor(sigma_8_samples.shape[0]/samples_to_plot))\n",
    "    plt.plot(redshifts[::-1], sigma_8_samples[_ind, :])\n",
    "        plt.title(' s8(z) at different H0')\n",
    "plt.xlabel('z');\n",
    "plt.ylabel('Δs8');"
   ]
  },
  {
   "cell_type": "code",
   "execution_count": null,
   "id": "d2d3080f",
   "metadata": {},
   "outputs": [],
   "source": [
    "#calcolo sigma per il minimo z\n",
    "pars = camb.set_params(H0=_H0, ombh2=_omegabh2, omch2=_omegach2, As=_As, ns=_ns)\n",
    "pars.set_matter_power([0.0], kmax=2.0)\n",
    "results = camb.get_results(pars)\n",
    "print(results.get_sigma8())"
   ]
  },
  {
   "cell_type": "code",
   "execution_count": null,
   "id": "0921b4c4",
   "metadata": {},
   "outputs": [],
   "source": [
    "#calcolo sigma per il massimo z\n",
    "pars = camb.set_params(H0=_H0, ombh2=_omegabh2, omch2=_omegach2, As=_As, ns=_ns)\n",
    "pars.set_matter_power([3.0], kmax=2.0)\n",
    "results = camb.get_results(pars)\n",
    "\n",
    "print(results.get_sigma8())"
   ]
  },
  {
   "cell_type": "code",
   "execution_count": null,
   "id": "44bcb9fb",
   "metadata": {},
   "outputs": [],
   "source": []
  },
  {
   "cell_type": "code",
   "execution_count": null,
   "id": "47cadb3a",
   "metadata": {},
   "outputs": [],
   "source": []
  },
  {
   "cell_type": "code",
   "execution_count": null,
   "id": "2483251d",
   "metadata": {},
   "outputs": [],
   "source": []
  },
  {
   "cell_type": "code",
   "execution_count": null,
   "id": "f69e7c27",
   "metadata": {},
   "outputs": [],
   "source": []
  }
 ],
 "metadata": {
  "kernelspec": {
   "display_name": "Python 3 (ipykernel)",
   "language": "python",
   "name": "python3"
  },
  "language_info": {
   "codemirror_mode": {
    "name": "ipython",
    "version": 3
   },
   "file_extension": ".py",
   "mimetype": "text/x-python",
   "name": "python",
   "nbconvert_exporter": "python",
   "pygments_lexer": "ipython3",
   "version": "3.9.7"
  }
 },
 "nbformat": 4,
 "nbformat_minor": 5
}
